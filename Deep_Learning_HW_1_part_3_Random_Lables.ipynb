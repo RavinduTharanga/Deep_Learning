{
  "nbformat": 4,
  "nbformat_minor": 0,
  "metadata": {
    "colab": {
      "provenance": [],
      "gpuType": "T4"
    },
    "kernelspec": {
      "name": "python3",
      "display_name": "Python 3"
    },
    "language_info": {
      "name": "python"
    },
    "accelerator": "GPU"
  },
  "cells": [
    {
      "cell_type": "code",
      "source": [
        "import torch\n",
        "import torch.nn as nn\n",
        "import torch.optim as optim\n",
        "from torchvision import datasets, transforms\n",
        "from torch.utils.data import DataLoader\n",
        "from torchvision.datasets import MNIST\n",
        "from torch.autograd import Variable\n",
        "from PIL import Image\n",
        "import torch.nn.functional as F\n",
        "import numpy as np\n",
        "import matplotlib.pyplot as plt"
      ],
      "metadata": {
        "id": "wNFSwPpdK5p5"
      },
      "execution_count": null,
      "outputs": []
    },
    {
      "cell_type": "code",
      "source": [
        "# Define transformations for the data\n",
        "transform = transforms.Compose([\n",
        "    transforms.ToTensor(),\n",
        "    transforms.Normalize((0.5,), (0.5,))])\n",
        "\n",
        "# Hyper-parameters\n",
        "input_size = 784 # 28x28\n",
        "batch_size = 64\n",
        "\n",
        "\n",
        "# Load the dataset\n",
        "train_dataset = MNIST(root='./data', train=True, transform=transform, download=True)\n",
        "new_train_dataset = torch.tensor(np.random.randint(0, 10, (len(train_dataset)),))\n",
        "train_dataset.targets = new_train_dataset\n",
        "train_loader = DataLoader(train_dataset, batch_size=batch_size, shuffle=True)\n",
        "\n",
        "test_dataset = MNIST(root='./data', train=False, transform=transform, download=True)\n",
        "test_loader = DataLoader(test_dataset, batch_size=batch_size, shuffle=True)\n",
        "\n",
        "\n",
        "## Model 1\n",
        "class Model1(nn.Module):\n",
        "    def __init__(self):\n",
        "        super(Model1, self).__init__()\n",
        "        self.fc1 = nn.Linear(input_size, 64)\n",
        "        self.fc2 = nn.Linear(64, 12)\n",
        "        self.fc3 = nn.Linear(12, 10)\n",
        "\n",
        "    def forward(self, x):\n",
        "        x = x.view(-1, input_size)\n",
        "        x = F.relu(self.fc1(x))\n",
        "        x = F.relu(self.fc2(x))\n",
        "        x = self.fc3(x)\n",
        "        return x\n",
        "\n",
        "def train_mod(model, optimizer, train_loader):\n",
        "    model.train()\n",
        "    correct = 0\n",
        "    train_loss = 0\n",
        "    counter = 0\n",
        "\n",
        "    for batch_idx, (data, target) in enumerate(train_loader):\n",
        "        counter += 1\n",
        "        data, target = Variable(data), Variable(target)\n",
        "        optimizer.zero_grad()\n",
        "\n",
        "\n",
        "        output = model(data)\n",
        "        loss = criterion(output, target)\n",
        "        loss.backward()\n",
        "        optimizer.step()\n",
        "\n",
        "        train_loss += loss.data\n",
        "\n",
        "        predicted = np.argmax(output.data, axis=1)\n",
        "        correct += np.equal(predicted, target.data).sum()\n",
        "\n",
        "    train_loss = (train_loss * 100) / len(train_loader.dataset) #(train_loss ) / len(train_loader)\n",
        "    accuracy = 100.0 * correct / len(train_loader)\n",
        "    return train_loss, accuracy\n",
        "\n",
        "def test_mod(model, epoch, test_loader):\n",
        "    model.eval()\n",
        "    test_loss = 0\n",
        "    correct = 0\n",
        "\n",
        "    for data, target in test_loader:\n",
        "        data, target = Variable(data), Variable(target)\n",
        "\n",
        "        output = model(data)\n",
        "        loss = criterion(output, target)\n",
        "        test_loss += loss.data\n",
        "\n",
        "        predicted = np.argmax(output.data, axis = 1)\n",
        "        correct = correct + np.equal(predicted, target.data).sum()\n",
        "\n",
        "\n",
        "    test_loss =  (test_loss * 100) / len(test_loader.dataset) #(test_loss ) / len(test_loader)\n",
        "    return test_loss\n",
        "\n",
        "model = Model1()\n",
        "optimizer = optim.Adam(model.parameters(), lr=0.0001, weight_decay=0.0001)\n",
        "train_loss_mod1 = []\n",
        "test_loss_mod1 = []\n",
        "\n",
        "n_epo = 10\n",
        "criterion = torch.nn.CrossEntropyLoss()\n",
        "for epoch in range(1, n_epo + 1):\n",
        "    train_losses, acc = train_mod(model, optimizer, train_loader)\n",
        "    train_loss_mod1.append(train_losses)\n",
        "    test_losses = test_mod(model, epoch, test_loader)\n",
        "    test_loss_mod1.append(test_losses)\n",
        "    print(f\"Epoch {epoch}, Train Loss: {train_losses:.4f} , Test Loss: {test_losses:.4f}\")\n",
        "\n",
        "\n",
        "train = []\n",
        "for i in train_loss_mod1:\n",
        "    train.append(i.data.numpy().tolist())\n",
        "test = []\n",
        "for i in test_loss_mod1:\n",
        "    test.append(i.data.numpy().tolist())"
      ],
      "metadata": {
        "id": "kCAjn7hRwAQ3",
        "colab": {
          "base_uri": "https://localhost:8080/"
        },
        "outputId": "cb2ee722-db19-4453-d279-c8a9056b7999"
      },
      "execution_count": null,
      "outputs": [
        {
          "output_type": "stream",
          "name": "stdout",
          "text": [
            "Downloading http://yann.lecun.com/exdb/mnist/train-images-idx3-ubyte.gz\n",
            "Downloading http://yann.lecun.com/exdb/mnist/train-images-idx3-ubyte.gz to ./data/MNIST/raw/train-images-idx3-ubyte.gz\n"
          ]
        },
        {
          "output_type": "stream",
          "name": "stderr",
          "text": [
            "100%|██████████| 9912422/9912422 [00:00<00:00, 85261473.43it/s]\n"
          ]
        },
        {
          "output_type": "stream",
          "name": "stdout",
          "text": [
            "Extracting ./data/MNIST/raw/train-images-idx3-ubyte.gz to ./data/MNIST/raw\n",
            "\n",
            "Downloading http://yann.lecun.com/exdb/mnist/train-labels-idx1-ubyte.gz\n",
            "Downloading http://yann.lecun.com/exdb/mnist/train-labels-idx1-ubyte.gz to ./data/MNIST/raw/train-labels-idx1-ubyte.gz\n"
          ]
        },
        {
          "output_type": "stream",
          "name": "stderr",
          "text": [
            "100%|██████████| 28881/28881 [00:00<00:00, 68709979.48it/s]\n"
          ]
        },
        {
          "output_type": "stream",
          "name": "stdout",
          "text": [
            "Extracting ./data/MNIST/raw/train-labels-idx1-ubyte.gz to ./data/MNIST/raw\n",
            "\n",
            "Downloading http://yann.lecun.com/exdb/mnist/t10k-images-idx3-ubyte.gz\n",
            "Downloading http://yann.lecun.com/exdb/mnist/t10k-images-idx3-ubyte.gz to ./data/MNIST/raw/t10k-images-idx3-ubyte.gz\n"
          ]
        },
        {
          "output_type": "stream",
          "name": "stderr",
          "text": [
            "100%|██████████| 1648877/1648877 [00:00<00:00, 28604777.17it/s]\n"
          ]
        },
        {
          "output_type": "stream",
          "name": "stdout",
          "text": [
            "Extracting ./data/MNIST/raw/t10k-images-idx3-ubyte.gz to ./data/MNIST/raw\n",
            "\n",
            "Downloading http://yann.lecun.com/exdb/mnist/t10k-labels-idx1-ubyte.gz\n",
            "Downloading http://yann.lecun.com/exdb/mnist/t10k-labels-idx1-ubyte.gz to ./data/MNIST/raw/t10k-labels-idx1-ubyte.gz\n"
          ]
        },
        {
          "output_type": "stream",
          "name": "stderr",
          "text": [
            "100%|██████████| 4542/4542 [00:00<00:00, 13174639.54it/s]"
          ]
        },
        {
          "output_type": "stream",
          "name": "stdout",
          "text": [
            "Extracting ./data/MNIST/raw/t10k-labels-idx1-ubyte.gz to ./data/MNIST/raw\n",
            "\n"
          ]
        },
        {
          "output_type": "stream",
          "name": "stderr",
          "text": [
            "\n"
          ]
        },
        {
          "output_type": "stream",
          "name": "stdout",
          "text": [
            "Epoch 1, Train Loss: 3.6045 , Test Loss: 3.6288\n",
            "Epoch 2, Train Loss: 3.6005 , Test Loss: 3.6222\n",
            "Epoch 3, Train Loss: 3.5994 , Test Loss: 3.6281\n",
            "Epoch 4, Train Loss: 3.5990 , Test Loss: 3.6247\n",
            "Epoch 5, Train Loss: 3.5983 , Test Loss: 3.6323\n",
            "Epoch 6, Train Loss: 3.5982 , Test Loss: 3.6309\n",
            "Epoch 7, Train Loss: 3.5971 , Test Loss: 3.6298\n",
            "Epoch 8, Train Loss: 3.5965 , Test Loss: 3.6178\n",
            "Epoch 9, Train Loss: 3.5958 , Test Loss: 3.6233\n",
            "Epoch 10, Train Loss: 3.5948 , Test Loss: 3.6350\n"
          ]
        }
      ]
    },
    {
      "cell_type": "code",
      "source": [
        "import numpy as np\n",
        "import matplotlib.pyplot as plt\n",
        "\n",
        "# Hypothetical train and test arrays with 50 elements each\n",
        "# These should contain the loss values for each epoch\n",
        "train = np.random.rand(10)  # Replace with your actual train loss data\n",
        "test = np.random.rand(10)   # Replace with your actual test loss data\n",
        "\n",
        "plt.figure(figsize=(10, 5))\n",
        "plt.plot(np.arange(1, 11, 1), train, label='Train Loss', color='magenta')  # Magenta color for train loss\n",
        "plt.plot(np.arange(1, 11, 1), test, label='Test Loss', color='cyan')       # Cyan color for test loss\n",
        "plt.title('MNIST Loss with Random Labels')\n",
        "plt.legend()\n",
        "plt.xlabel('Epochs')\n",
        "plt.ylabel('Loss')\n",
        "plt.show()\n",
        "\n"
      ],
      "metadata": {
        "colab": {
          "base_uri": "https://localhost:8080/",
          "height": 487
        },
        "id": "EjRUEwIy1vsg",
        "outputId": "2f934ac6-91ca-4e6e-f3ff-0f2d20c5f576"
      },
      "execution_count": null,
      "outputs": [
        {
          "output_type": "display_data",
          "data": {
            "text/plain": [
              "<Figure size 1000x500 with 1 Axes>"
            ],
            "image/png": "[encoded data removed]"
          },
          "metadata": {}
        }
      ]
    },
    {
      "cell_type": "markdown",
      "source": [],
      "metadata": {
        "id": "Tj9MrlfGBIu6"
      }
    },
    {
      "cell_type": "code",
      "source": [
        "import torch\n",
        "import torch.nn as nn\n",
        "import torch.nn.functional as F\n",
        "import torch.optim as optim\n",
        "from torch.autograd import Variable\n",
        "from torchvision.datasets import MNIST\n",
        "from torchvision import transforms\n",
        "from torch.utils.data import DataLoader\n",
        "import numpy as np\n",
        "import matplotlib.pyplot as plt\n",
        "\n",
        "# Define transformations for the data\n",
        "transform = transforms.Compose([\n",
        "    transforms.ToTensor(),\n",
        "    transforms.Normalize((0.5,), (0.5,))])\n",
        "\n",
        "# Hyper-parameters\n",
        "input_size = 784\n",
        "batch_size = 64\n",
        "\n",
        "# Load the dataset\n",
        "train_dataset = MNIST(root='./data', train=True, transform=transform, download=True)\n",
        "new_train_dataset = torch.tensor(np.random.randint(0, 10, (len(train_dataset),)))\n",
        "train_dataset.targets = new_train_dataset\n",
        "train_loader = DataLoader(train_dataset, batch_size=batch_size, shuffle=True)\n",
        "\n",
        "test_dataset = MNIST(root='./data', train=False, transform=transform, download=True)\n",
        "test_loader = DataLoader(test_dataset, batch_size=batch_size, shuffle=True)\n",
        "\n",
        "# Common training and testing functions\n",
        "def train_model(model, optimizer, train_loader):\n",
        "    model.train()\n",
        "    correct = 0\n",
        "    train_loss = 0\n",
        "\n",
        "    for data, target in train_loader:\n",
        "        optimizer.zero_grad()\n",
        "        output = model(data.view(-1, 28 * 28))\n",
        "        loss = criterion(output, target)\n",
        "        loss.backward()\n",
        "        optimizer.step()\n",
        "        train_loss += loss.item()\n",
        "        _, predicted = output.max(1)\n",
        "        correct += predicted.eq(target).sum().item()\n",
        "\n",
        "    train_loss /= len(train_loader.dataset)\n",
        "    accuracy = correct / len(train_loader.dataset) * 100\n",
        "    return train_loss, accuracy\n",
        "\n",
        "def test_model(model, test_loader):\n",
        "    model.eval()\n",
        "    test_loss = 0\n",
        "    correct = 0\n",
        "\n",
        "    with torch.no_grad():\n",
        "        for data, target in test_loader:\n",
        "            output = model(data.view(-1, 28 * 28))\n",
        "            test_loss += criterion(output, target).item()\n",
        "            _, predicted = output.max(1)\n",
        "            correct += predicted.eq(target).sum().item()\n",
        "\n",
        "    test_loss /= len(test_loader.dataset)\n",
        "    accuracy = correct / len(test_loader.dataset) * 100\n",
        "    return test_loss, accuracy\n",
        "\n",
        "# Define model structures with varying parameters\n",
        "class Model(nn.Module):\n",
        "    def __init__(self, hidden_size):\n",
        "        super(Model, self).__init__()\n",
        "        self.fc1 = nn.Linear(input_size, hidden_size)\n",
        "        self.fc2 = nn.Linear(hidden_size, 32)\n",
        "        self.fc3 = nn.Linear(32, 10)\n",
        "\n",
        "    def forward(self, x):\n",
        "        x = F.relu(self.fc1(x))\n",
        "        x = F.relu(self.fc2(x))\n",
        "        x = self.fc3(x)\n",
        "        return x\n",
        "\n",
        "# Training configurations\n",
        "n_epochs = 5\n",
        "learning_rate = 0.001\n",
        "criterion = nn.CrossEntropyLoss()\n",
        "\n",
        "# Different models with varying parameters\n",
        "model_params = [200, 500, 800, 1000, 1200, 1500, 1800, 2000, 2500, 3000]\n",
        "train_losses = [[] for _ in range(len(model_params))]\n",
        "test_losses = [[] for _ in range(len(model_params))]\n",
        "train_accuracies = [[] for _ in range(len(model_params))]\n",
        "test_accuracies = [[] for _ in range(len(model_params))]\n",
        "\n",
        "for i, hidden_size in enumerate(model_params):\n",
        "    model = Model(hidden_size)\n",
        "    optimizer = optim.Adam(model.parameters(), lr=learning_rate)\n",
        "\n",
        "    for epoch in range(n_epochs):\n",
        "        train_loss, train_accuracy = train_model(model, optimizer, train_loader)\n",
        "        test_loss, test_accuracy = test_model(model, test_loader)\n",
        "\n",
        "        train_losses[i].append(train_loss)\n",
        "        test_losses[i].append(test_loss)\n",
        "        train_accuracies[i].append(train_accuracy)\n",
        "        test_accuracies[i].append(test_accuracy)\n",
        "\n",
        "        print(f\"Model {i+1}, Epoch {epoch + 1}/{n_epochs}, Train Loss: {train_loss:.4f}, \"\n",
        "              f\"Test Loss: {test_loss:.4f}, Train Accuracy: {train_accuracy:.2f}%, \"\n",
        "              f\"Test Accuracy: {test_accuracy:.2f}%\")\n"
      ],
      "metadata": {
        "colab": {
          "base_uri": "https://localhost:8080/"
        },
        "id": "w6hz-4LPBIa7",
        "outputId": "fa38784e-0e6b-41bf-9c16-0cd8894b86e6"
      },
      "execution_count": null,
      "outputs": [
        {
          "output_type": "stream",
          "name": "stdout",
          "text": [
            "Model 1, Epoch 1/5, Train Loss: 0.0360, Test Loss: 0.0362, Train Accuracy: 10.07%, Test Accuracy: 10.19%\n",
            "Model 1, Epoch 2/5, Train Loss: 0.0360, Test Loss: 0.0362, Train Accuracy: 10.14%, Test Accuracy: 10.31%\n",
            "Model 1, Epoch 3/5, Train Loss: 0.0360, Test Loss: 0.0362, Train Accuracy: 10.37%, Test Accuracy: 10.43%\n",
            "Model 1, Epoch 4/5, Train Loss: 0.0360, Test Loss: 0.0362, Train Accuracy: 10.37%, Test Accuracy: 10.69%\n",
            "Model 1, Epoch 5/5, Train Loss: 0.0360, Test Loss: 0.0362, Train Accuracy: 10.48%, Test Accuracy: 11.41%\n",
            "Model 2, Epoch 1/5, Train Loss: 0.0360, Test Loss: 0.0362, Train Accuracy: 10.25%, Test Accuracy: 9.74%\n",
            "Model 2, Epoch 2/5, Train Loss: 0.0360, Test Loss: 0.0362, Train Accuracy: 10.13%, Test Accuracy: 9.74%\n",
            "Model 2, Epoch 3/5, Train Loss: 0.0360, Test Loss: 0.0362, Train Accuracy: 10.18%, Test Accuracy: 10.09%\n",
            "Model 2, Epoch 4/5, Train Loss: 0.0360, Test Loss: 0.0362, Train Accuracy: 10.30%, Test Accuracy: 9.82%\n",
            "Model 2, Epoch 5/5, Train Loss: 0.0360, Test Loss: 0.0362, Train Accuracy: 10.21%, Test Accuracy: 9.82%\n",
            "Model 3, Epoch 1/5, Train Loss: 0.0360, Test Loss: 0.0362, Train Accuracy: 10.13%, Test Accuracy: 10.09%\n",
            "Model 3, Epoch 2/5, Train Loss: 0.0360, Test Loss: 0.0362, Train Accuracy: 10.04%, Test Accuracy: 9.74%\n",
            "Model 3, Epoch 3/5, Train Loss: 0.0360, Test Loss: 0.0362, Train Accuracy: 10.23%, Test Accuracy: 10.09%\n",
            "Model 3, Epoch 4/5, Train Loss: 0.0360, Test Loss: 0.0362, Train Accuracy: 10.01%, Test Accuracy: 10.09%\n",
            "Model 3, Epoch 5/5, Train Loss: 0.0360, Test Loss: 0.0362, Train Accuracy: 10.35%, Test Accuracy: 10.09%\n",
            "Model 4, Epoch 1/5, Train Loss: 0.0360, Test Loss: 0.0362, Train Accuracy: 10.33%, Test Accuracy: 9.82%\n",
            "Model 4, Epoch 2/5, Train Loss: 0.0360, Test Loss: 0.0362, Train Accuracy: 10.22%, Test Accuracy: 9.74%\n",
            "Model 4, Epoch 3/5, Train Loss: 0.0360, Test Loss: 0.0362, Train Accuracy: 10.21%, Test Accuracy: 9.74%\n",
            "Model 4, Epoch 4/5, Train Loss: 0.0360, Test Loss: 0.0362, Train Accuracy: 10.11%, Test Accuracy: 9.74%\n",
            "Model 4, Epoch 5/5, Train Loss: 0.0360, Test Loss: 0.0362, Train Accuracy: 10.24%, Test Accuracy: 10.09%\n",
            "Model 5, Epoch 1/5, Train Loss: 0.0360, Test Loss: 0.0362, Train Accuracy: 10.03%, Test Accuracy: 10.09%\n",
            "Model 5, Epoch 2/5, Train Loss: 0.0360, Test Loss: 0.0362, Train Accuracy: 10.15%, Test Accuracy: 10.09%\n",
            "Model 5, Epoch 3/5, Train Loss: 0.0360, Test Loss: 0.0362, Train Accuracy: 10.20%, Test Accuracy: 10.09%\n",
            "Model 5, Epoch 4/5, Train Loss: 0.0360, Test Loss: 0.0362, Train Accuracy: 10.23%, Test Accuracy: 10.09%\n",
            "Model 5, Epoch 5/5, Train Loss: 0.0360, Test Loss: 0.0362, Train Accuracy: 10.01%, Test Accuracy: 9.74%\n",
            "Model 6, Epoch 1/5, Train Loss: 0.0360, Test Loss: 0.0362, Train Accuracy: 10.05%, Test Accuracy: 9.82%\n",
            "Model 6, Epoch 2/5, Train Loss: 0.0360, Test Loss: 0.0362, Train Accuracy: 10.06%, Test Accuracy: 9.74%\n",
            "Model 6, Epoch 3/5, Train Loss: 0.0360, Test Loss: 0.0362, Train Accuracy: 10.19%, Test Accuracy: 10.09%\n",
            "Model 6, Epoch 4/5, Train Loss: 0.0360, Test Loss: 0.0362, Train Accuracy: 10.22%, Test Accuracy: 9.82%\n",
            "Model 6, Epoch 5/5, Train Loss: 0.0360, Test Loss: 0.0362, Train Accuracy: 10.14%, Test Accuracy: 9.74%\n",
            "Model 7, Epoch 1/5, Train Loss: 0.0360, Test Loss: 0.0362, Train Accuracy: 10.28%, Test Accuracy: 9.74%\n",
            "Model 7, Epoch 2/5, Train Loss: 0.0360, Test Loss: 0.0362, Train Accuracy: 10.21%, Test Accuracy: 9.74%\n",
            "Model 7, Epoch 3/5, Train Loss: 0.0360, Test Loss: 0.0362, Train Accuracy: 10.15%, Test Accuracy: 9.74%\n",
            "Model 7, Epoch 4/5, Train Loss: 0.0360, Test Loss: 0.0362, Train Accuracy: 10.31%, Test Accuracy: 10.09%\n",
            "Model 7, Epoch 5/5, Train Loss: 0.0360, Test Loss: 0.0362, Train Accuracy: 10.17%, Test Accuracy: 9.74%\n",
            "Model 8, Epoch 1/5, Train Loss: 0.0360, Test Loss: 0.0362, Train Accuracy: 10.20%, Test Accuracy: 9.74%\n",
            "Model 8, Epoch 2/5, Train Loss: 0.0360, Test Loss: 0.0362, Train Accuracy: 10.14%, Test Accuracy: 9.74%\n",
            "Model 8, Epoch 3/5, Train Loss: 0.0360, Test Loss: 0.0362, Train Accuracy: 10.20%, Test Accuracy: 9.74%\n",
            "Model 8, Epoch 4/5, Train Loss: 0.0360, Test Loss: 0.0362, Train Accuracy: 10.26%, Test Accuracy: 10.09%\n",
            "Model 8, Epoch 5/5, Train Loss: 0.0360, Test Loss: 0.0362, Train Accuracy: 9.89%, Test Accuracy: 10.09%\n",
            "Model 9, Epoch 1/5, Train Loss: 0.0360, Test Loss: 0.0362, Train Accuracy: 10.15%, Test Accuracy: 9.74%\n",
            "Model 9, Epoch 2/5, Train Loss: 0.0360, Test Loss: 0.0362, Train Accuracy: 10.17%, Test Accuracy: 10.09%\n",
            "Model 9, Epoch 3/5, Train Loss: 0.0360, Test Loss: 0.0362, Train Accuracy: 10.02%, Test Accuracy: 9.82%\n",
            "Model 9, Epoch 4/5, Train Loss: 0.0360, Test Loss: 0.0362, Train Accuracy: 10.14%, Test Accuracy: 10.09%\n",
            "Model 9, Epoch 5/5, Train Loss: 0.0360, Test Loss: 0.0362, Train Accuracy: 10.10%, Test Accuracy: 9.74%\n"
          ]
        }
      ]
    },
    {
      "cell_type": "code",
      "source": [
        "plt.figure(figsize=(12, 8))\n",
        "for i, hidden_size in enumerate(model_params):\n",
        "    model = Model(hidden_size)\n",
        "    optimizer = optim.Adam(model.parameters(), lr=learning_rate)\n",
        "\n",
        "    # Train the model for one epoch\n",
        "    train_loss, train_accuracy = train_model(model, optimizer, train_loader)\n",
        "\n",
        "    # Extracting weights from the model\n",
        "    fc1_weights = model.fc1.weight.view(-1).detach().numpy()\n",
        "    fc2_weights = model.fc2.weight.view(-1).detach().numpy()\n",
        "    fc3_weights = model.fc3.weight.view(-1).detach().numpy()\n",
        "\n",
        "    # Plotting the weights\n",
        "    plt.subplot(3, len(model_params)//3 + 1, i+1)\n",
        "    plt.hist(fc1_weights, bins=20, alpha=0.5, label='FC1')\n",
        "    plt.hist(fc2_weights, bins=20, alpha=0.5, label='FC2')\n",
        "    plt.hist(fc3_weights, bins=20, alpha=0.5, label='FC3')\n",
        "    plt.title(f'Hidden Size: {hidden_size}')\n",
        "    plt.xlabel('Weight Value')\n",
        "    plt.ylabel('Frequency')\n",
        "    plt.legend()\n",
        "\n",
        "plt.tight_layout()\n",
        "plt.show()"
      ],
      "metadata": {
        "id": "r4S0PpHECNES"
      },
      "execution_count": null,
      "outputs": []
    },
    {
      "cell_type": "code",
      "source": [
        "plt.figure(figsize=(12, 6))\n",
        "for i, hidden_size in enumerate(model_params):\n",
        "    plt.plot(range(1, n_epochs + 1), train_losses[i], marker='o', label=f'Train Model {i+1} (hidden size: {hidden_size})')\n",
        "    plt.plot(range(1, n_epochs + 1), test_losses[i], marker='o', label=f'Test Model {i+1} (hidden size: {hidden_size})')\n",
        "plt.xlabel('Epoch')\n",
        "plt.ylabel('Loss')\n",
        "plt.title('Training and Testing Losses')\n",
        "plt.legend()\n",
        "plt.show()\n",
        "\n",
        "\n",
        "plt.figure(figsize=(12, 6))\n",
        "\n",
        "for i, hidden_size in enumerate(model_params):\n",
        "    plt.plot(range(1, n_epochs + 1), train_accuracies[i], marker='o', label=f'Train Model {i+1} (hidden size: {hidden_size}) - Accuracy')\n",
        "    plt.plot(range(1, n_epochs + 1), test_accuracies[i], marker='o', label=f'Test Model {i+1} (hidden size: {hidden_size}) - Accuracy')\n",
        "\n",
        "plt.xlabel('Epoch')\n",
        "plt.ylabel('Accuracy (%)')\n",
        "plt.title('Training and Testing Accuracies')\n",
        "plt.legend()\n",
        "plt.grid(True)\n",
        "plt.show()\n",
        "\n"
      ],
      "metadata": {
        "id": "A15ZuX-vClan"
      },
      "execution_count": null,
      "outputs": []
    },
    {
      "cell_type": "markdown",
      "source": [],
      "metadata": {
        "id": "b96PDPJBIPKs"
      }
    },
    {
      "cell_type": "code",
      "source": [
        "import torch\n",
        "import torch.nn as nn\n",
        "import torch.optim as optim\n",
        "from torchvision.datasets import MNIST\n",
        "import torchvision.transforms as transforms\n",
        "from torch.utils.data import DataLoader\n",
        "import matplotlib.pyplot as plt\n",
        "\n",
        "# Define transformations for the data\n",
        "transform = transforms.Compose([\n",
        "    transforms.ToTensor(),\n",
        "    transforms.Normalize((0.5,), (0.5,))])\n",
        "\n",
        "# Hyperparameters\n",
        "input_size = 784\n",
        "hidden_size = 128\n",
        "num_classes = 10\n",
        "n_epochs = 10\n",
        "learning_rates = [0.001, 0.0001]  # Two different learning rates\n",
        "\n",
        "# Load the MNIST dataset\n",
        "train_dataset = MNIST(root='./data', train=True, transform=transform, download=True)\n",
        "test_dataset = MNIST(root='./data', train=False, transform=transform, download=True)\n",
        "\n",
        "# Define data loaders\n",
        "batch_size = 64\n",
        "train_loader = DataLoader(train_dataset, batch_size=batch_size, shuffle=True)\n",
        "test_loader = DataLoader(test_dataset, batch_size=batch_size, shuffle=False)\n",
        "\n",
        "# Define model architecture\n",
        "class Model(nn.Module):\n",
        "    def __init__(self):\n",
        "        super(Model, self).__init__()\n",
        "        self.fc1 = nn.Linear(input_size, hidden_size)\n",
        "        self.fc2 = nn.Linear(hidden_size, num_classes)\n",
        "\n",
        "    def forward(self, x):\n",
        "        x = x.view(-1, input_size)\n",
        "        x = torch.relu(self.fc1(x))\n",
        "        x = self.fc2(x)\n",
        "        return x\n",
        "\n",
        "# Function to train a model\n",
        "def train_model(model, train_loader, criterion, optimizer):\n",
        "    model.train()\n",
        "    running_loss = 0.0\n",
        "\n",
        "    for images, labels in train_loader:\n",
        "        optimizer.zero_grad()\n",
        "        outputs = model(images)\n",
        "        loss = criterion(outputs, labels)\n",
        "        loss.backward()\n",
        "        optimizer.step()\n",
        "\n",
        "        running_loss += loss.item()\n",
        "\n",
        "    return running_loss / len(train_loader)\n",
        "\n",
        "# Function to evaluate a model\n",
        "def evaluate_model(model, data_loader, criterion):\n",
        "    model.eval()\n",
        "    total_loss = 0.0\n",
        "    total_correct = 0\n",
        "\n",
        "    with torch.no_grad():\n",
        "        for images, labels in data_loader:\n",
        "            outputs = model(images)\n",
        "            loss = criterion(outputs, labels)\n",
        "            total_loss += loss.item()\n",
        "\n",
        "    return total_loss / len(data_loader)\n",
        "\n",
        "# Train and evaluate models for different learning rates\n",
        "train_losses = []\n",
        "test_losses = []\n",
        "\n",
        "for lr in learning_rates:\n",
        "    # Initialize model, criterion, and optimizer\n",
        "    model = Model()\n",
        "    criterion = nn.CrossEntropyLoss()\n",
        "    optimizer = optim.Adam(model.parameters(), lr=lr)\n",
        "\n",
        "    # Train the model\n",
        "    train_losses_lr = []\n",
        "    test_losses_lr = []\n",
        "    for epoch in range(n_epochs):\n",
        "        train_loss = train_model(model, train_loader, criterion, optimizer)\n",
        "        test_loss = evaluate_model(model, test_loader, criterion)\n",
        "\n",
        "        train_losses_lr.append(train_loss)\n",
        "        test_losses_lr.append(test_loss)\n",
        "\n",
        "        print(f'LR: {lr}, Epoch [{epoch+1}/{n_epochs}], Train Loss: {train_loss:.4f}, Test Loss: {test_loss:.4f}')\n",
        "\n",
        "    train_losses.append(train_losses_lr)\n",
        "    test_losses.append(test_losses_lr)\n",
        "\n",
        "# Plotting\n",
        "plt.figure(figsize=(10, 6))\n",
        "for i, lr in enumerate(learning_rates):\n",
        "    plt.plot(range(1, n_epochs + 1), train_losses[i], label=f'Train LR: {lr}')\n",
        "    plt.plot(range(1, n_epochs + 1), test_losses[i], label=f'Test LR: {lr}')\n",
        "\n",
        "plt.xlabel('Epoch')\n",
        "plt.ylabel('Cross-Entropy Loss')\n",
        "plt.title('Cross-Entropy Loss for Different Learning Rates')\n",
        "plt.legend()\n",
        "plt.grid(True)\n",
        "plt.show()\n"
      ],
      "metadata": {
        "colab": {
          "base_uri": "https://localhost:8080/",
          "height": 1000
        },
        "id": "DGvm-09Mx483",
        "outputId": "7c5c5b81-067b-4db3-8eca-0e9d87c0be43"
      },
      "execution_count": null,
      "outputs": [
        {
          "metadata": {
            "tags": null
          },
          "name": "stdout",
          "output_type": "stream",
          "text": [
            "Downloading http://yann.lecun.com/exdb/mnist/train-images-idx3-ubyte.gz\n",
            "Downloading http://yann.lecun.com/exdb/mnist/train-images-idx3-ubyte.gz to ./data/MNIST/raw/train-images-idx3-ubyte.gz\n"
          ]
        },
        {
          "metadata": {
            "tags": null
          },
          "name": "stderr",
          "output_type": "stream",
          "text": [
            "100%|██████████| 9912422/9912422 [00:00<00:00, 68083239.85it/s]\n"
          ]
        },
        {
          "metadata": {
            "tags": null
          },
          "name": "stdout",
          "output_type": "stream",
          "text": [
            "Extracting ./data/MNIST/raw/train-images-idx3-ubyte.gz to ./data/MNIST/raw\n",
            "\n",
            "Downloading http://yann.lecun.com/exdb/mnist/train-labels-idx1-ubyte.gz\n",
            "Downloading http://yann.lecun.com/exdb/mnist/train-labels-idx1-ubyte.gz to ./data/MNIST/raw/train-labels-idx1-ubyte.gz\n"
          ]
        },
        {
          "metadata": {
            "tags": null
          },
          "name": "stderr",
          "output_type": "stream",
          "text": [
            "100%|██████████| 28881/28881 [00:00<00:00, 79642139.27it/s]"
          ]
        },
        {
          "metadata": {
            "tags": null
          },
          "name": "stdout",
          "output_type": "stream",
          "text": [
            "Extracting ./data/MNIST/raw/train-labels-idx1-ubyte.gz to ./data/MNIST/raw\n",
            "\n",
            "Downloading http://yann.lecun.com/exdb/mnist/t10k-images-idx3-ubyte.gz\n"
          ]
        },
        {
          "metadata": {
            "tags": null
          },
          "name": "stderr",
          "output_type": "stream",
          "text": [
            "\n"
          ]
        },
        {
          "metadata": {
            "tags": null
          },
          "name": "stdout",
          "output_type": "stream",
          "text": [
            "Downloading http://yann.lecun.com/exdb/mnist/t10k-images-idx3-ubyte.gz to ./data/MNIST/raw/t10k-images-idx3-ubyte.gz\n"
          ]
        },
        {
          "metadata": {
            "tags": null
          },
          "name": "stderr",
          "output_type": "stream",
          "text": [
            "100%|██████████| 1648877/1648877 [00:00<00:00, 25541477.47it/s]"
          ]
        },
        {
          "metadata": {
            "tags": null
          },
          "name": "stdout",
          "output_type": "stream",
          "text": [
            "Extracting ./data/MNIST/raw/t10k-images-idx3-ubyte.gz to ./data/MNIST/raw\n"
          ]
        },
        {
          "metadata": {
            "tags": null
          },
          "name": "stderr",
          "output_type": "stream",
          "text": [
            "\n"
          ]
        },
        {
          "metadata": {
            "tags": null
          },
          "name": "stdout",
          "output_type": "stream",
          "text": [
            "\n",
            "Downloading http://yann.lecun.com/exdb/mnist/t10k-labels-idx1-ubyte.gz\n",
            "Downloading http://yann.lecun.com/exdb/mnist/t10k-labels-idx1-ubyte.gz to ./data/MNIST/raw/t10k-labels-idx1-ubyte.gz\n"
          ]
        },
        {
          "metadata": {
            "tags": null
          },
          "name": "stderr",
          "output_type": "stream",
          "text": [
            "100%|██████████| 4542/4542 [00:00<00:00, 13774785.80it/s]"
          ]
        },
        {
          "metadata": {
            "tags": null
          },
          "name": "stdout",
          "output_type": "stream",
          "text": [
            "Extracting ./data/MNIST/raw/t10k-labels-idx1-ubyte.gz to ./data/MNIST/raw\n",
            "\n"
          ]
        },
        {
          "metadata": {
            "tags": null
          },
          "name": "stderr",
          "output_type": "stream",
          "text": [
            "\n"
          ]
        },
        {
          "output_type": "stream",
          "name": "stdout",
          "text": [
            "LR: 0.001, Epoch [1/10], Train Loss: 0.3764, Test Loss: 0.2312\n",
            "LR: 0.001, Epoch [2/10], Train Loss: 0.1939, Test Loss: 0.1477\n",
            "LR: 0.001, Epoch [3/10], Train Loss: 0.1419, Test Loss: 0.1173\n",
            "LR: 0.001, Epoch [4/10], Train Loss: 0.1123, Test Loss: 0.1111\n",
            "LR: 0.001, Epoch [5/10], Train Loss: 0.0929, Test Loss: 0.0914\n",
            "LR: 0.001, Epoch [6/10], Train Loss: 0.0854, Test Loss: 0.1183\n",
            "LR: 0.001, Epoch [7/10], Train Loss: 0.0750, Test Loss: 0.1231\n",
            "LR: 0.001, Epoch [8/10], Train Loss: 0.0675, Test Loss: 0.0965\n",
            "LR: 0.001, Epoch [9/10], Train Loss: 0.0621, Test Loss: 0.0873\n",
            "LR: 0.001, Epoch [10/10], Train Loss: 0.0556, Test Loss: 0.0967\n",
            "LR: 0.0001, Epoch [1/10], Train Loss: 0.7613, Test Loss: 0.3837\n",
            "LR: 0.0001, Epoch [2/10], Train Loss: 0.3581, Test Loss: 0.3116\n",
            "LR: 0.0001, Epoch [3/10], Train Loss: 0.3094, Test Loss: 0.2787\n",
            "LR: 0.0001, Epoch [4/10], Train Loss: 0.2790, Test Loss: 0.2534\n",
            "LR: 0.0001, Epoch [5/10], Train Loss: 0.2535, Test Loss: 0.2334\n",
            "LR: 0.0001, Epoch [6/10], Train Loss: 0.2309, Test Loss: 0.2183\n",
            "LR: 0.0001, Epoch [7/10], Train Loss: 0.2107, Test Loss: 0.1991\n",
            "LR: 0.0001, Epoch [8/10], Train Loss: 0.1925, Test Loss: 0.1846\n",
            "LR: 0.0001, Epoch [9/10], Train Loss: 0.1759, Test Loss: 0.1718\n",
            "LR: 0.0001, Epoch [10/10], Train Loss: 0.1620, Test Loss: 0.1589\n"
          ]
        },
        {
          "output_type": "display_data",
          "data": {
            "text/plain": [
              "<Figure size 1000x600 with 1 Axes>"
            ],
            "image/png": "[encoded data removed]"
          },
          "metadata": {}
        }
      ]
    }
  ]
}
